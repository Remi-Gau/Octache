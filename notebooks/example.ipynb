{
 "cells": [
  {
   "cell_type": "code",
   "execution_count": null,
   "id": "75fdf5ae",
   "metadata": {},
   "outputs": [],
   "source": [
    "run ../setup.m"
   ]
  },
  {
   "cell_type": "code",
   "execution_count": null,
   "id": "1102674f",
   "metadata": {},
   "outputs": [],
   "source": [
    "output = octache('\"Hello {{value}}! {{who}}\"', ...\n",
    "                'data', struct('value', 'world', ...\n",
    "                                'who', 'I am Octache'))"
   ]
  },
  {
   "cell_type": "code",
   "execution_count": null,
   "id": "efe46d09",
   "metadata": {},
   "outputs": [],
   "source": [
    "path_to_file_to_render = fullfile(pwd, 'demo.mustache');\n",
    "path_data_JSON = fullfile(pwd, 'demo.json');\n",
    "\n",
    "output = octache(path_to_file_to_render, ...\n",
    "               'data', path_data_JSON, ...\n",
    "               'warn', true, ...\n",
    "               'keep', true);\n",
    "             \n",
    "disp(output); "
   ]
  },
  {
   "cell_type": "code",
   "execution_count": null,
   "id": "f18a9340",
   "metadata": {},
   "outputs": [],
   "source": [
    "path_to_file_to_render = fullfile(pwd, 'main.mustache');\n",
    "path_data_JSON = fullfile(pwd, 'anat.json');\n",
    "path_folder_with_partials = fullfile(pwd, 'partials');\n",
    "\n",
    "output = octache(path_to_file_to_render, ...\n",
    "               'data', path_data_JSON, ...\n",
    "               'partials_path', path_folder_with_partials, ...\n",
    "               'partials_ext', 'mustache', ...\n",
    "               'warn', false, ...\n",
    "               'keep', false);\n",
    "             \n",
    "disp(output);   "
   ]
  }
 ],
 "metadata": {
  "language_info": {
   "name": "octave"
  }
 },
 "nbformat": 4,
 "nbformat_minor": 5
}
